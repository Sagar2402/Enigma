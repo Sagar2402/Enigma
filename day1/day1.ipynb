{
 "cells": [
  {
   "cell_type": "code",
   "execution_count": 35,
   "metadata": {},
   "outputs": [],
   "source": [
    "import matplotlib.pyplot as plt \n",
    "import pandas as pd \n",
    "import numpy as np \n",
    "import sklearn"
   ]
  },
  {
   "cell_type": "code",
   "execution_count": 36,
   "metadata": {},
   "outputs": [
    {
     "name": "stdout",
     "output_type": "stream",
     "text": [
      "Number of soldiers     int64\n",
      "Number of tanks        int64\n",
      "Number of aircrafts    int64\n",
      "Id                     int64\n",
      "dtype: object\n"
     ]
    }
   ],
   "source": [
    "d_train = pd.read_csv(\"/home/sagar24/enigma/enigma_day1/train.csv\")\n",
    "d_test = pd.read_csv(\"/home/sagar24/enigma/enigma_day1/test.csv\")\n",
    "print(d_test.dtypes)"
   ]
  },
  {
   "cell_type": "code",
   "execution_count": 37,
   "metadata": {},
   "outputs": [
    {
     "name": "stdout",
     "output_type": "stream",
     "text": [
      "[[-1.79819804 -0.33419478 -0.10713888]\n",
      " [-1.44970219 -1.223084   -0.5920833 ]\n",
      " [-1.44970219  0.85099084  0.86274995]\n",
      " [-1.44970219 -1.51938041  4.25736085]\n",
      " [-1.44970219 -0.63049119  1.02439809]\n",
      " [-1.36257823  0.25839803  1.5093425 ]\n",
      " [-1.36257823 -0.03789838 -0.5920833 ]\n",
      " [-1.27545427 -0.9267876  -0.43043516]\n",
      " [-1.18833031 -1.51938041 -0.5920833 ]\n",
      " [-1.18833031 -0.03789838 -0.5920833 ]\n",
      " [-1.10120635  1.73988006  2.80252761]\n",
      " [-1.10120635 -1.223084   -0.26878702]\n",
      " [-1.10120635 -0.9267876  -0.5920833 ]\n",
      " [-1.10120635  0.25839803 -0.43043516]\n",
      " [-1.10120635 -0.9267876  -0.43043516]\n",
      " [-1.01408239 -0.03789838 -0.5920833 ]\n",
      " [-1.01408239  1.14728725 -0.5920833 ]\n",
      " [-0.92695843 -1.51938041 -0.5920833 ]\n",
      " [-0.83983446 -1.223084    0.70110181]\n",
      " [-0.83983446  1.73988006  0.70110181]\n",
      " [-0.83983446  0.55469443 -0.5920833 ]\n",
      " [-0.7527105  -1.223084   -0.5920833 ]\n",
      " [-0.7527105  -0.63049119  0.05450926]\n",
      " [-0.7527105   0.55469443 -0.5920833 ]\n",
      " [-0.7527105  -0.03789838 -0.43043516]\n",
      " [-0.66558654 -0.03789838 -0.26878702]\n",
      " [-0.66558654  0.55469443 -0.5920833 ]\n",
      " [-0.57846258 -0.63049119 -0.5920833 ]\n",
      " [-0.57846258 -0.63049119 -0.5920833 ]\n",
      " [-0.57846258  1.14728725  1.99428692]\n",
      " [-0.49133862 -0.9267876  -0.5920833 ]\n",
      " [-0.49133862  1.14728725 -0.5920833 ]\n",
      " [-0.40421466  1.73988006 -0.10713888]\n",
      " [-0.3170907  -0.33419478 -0.5920833 ]\n",
      " [-0.3170907   0.55469443 -0.5920833 ]\n",
      " [-0.3170907  -0.63049119 -0.5920833 ]\n",
      " [-0.3170907   0.85099084 -0.5920833 ]\n",
      " [-0.3170907  -1.51938041 -0.10713888]\n",
      " [-0.3170907  -0.9267876   0.05450926]\n",
      " [-0.22996674 -1.51938041  1.18604622]\n",
      " [-0.22996674  1.14728725  0.53945367]\n",
      " [-0.22996674  0.25839803 -0.5920833 ]\n",
      " [-0.14284277 -0.33419478 -0.5920833 ]\n",
      " [-0.14284277 -0.03789838 -0.10713888]\n",
      " [-0.05571881  0.25839803 -0.5920833 ]\n",
      " [ 0.03140515  0.85099084 -0.43043516]\n",
      " [ 0.11852911 -0.63049119 -0.5920833 ]\n",
      " [ 0.11852911 -0.9267876   0.05450926]\n",
      " [ 0.11852911  0.25839803 -0.5920833 ]\n",
      " [ 0.20565307 -1.51938041  0.05450926]\n",
      " [ 0.20565307  0.55469443 -0.43043516]\n",
      " [ 0.20565307 -0.03789838  3.28747202]\n",
      " [ 0.20565307 -1.51938041 -0.43043516]\n",
      " [ 0.29277703 -0.9267876   1.18604622]\n",
      " [ 0.29277703 -0.33419478 -0.5920833 ]\n",
      " [ 0.29277703  1.73988006  0.53945367]\n",
      " [ 0.37990099 -1.51938041 -0.43043516]\n",
      " [ 0.37990099 -1.51938041 -0.5920833 ]\n",
      " [ 0.37990099  1.73988006  2.96417575]\n",
      " [ 0.37990099  1.14728725 -0.43043516]\n",
      " [ 0.46702496  0.85099084 -0.10713888]\n",
      " [ 0.46702496  0.85099084 -0.26878702]\n",
      " [ 0.46702496  1.14728725 -0.5920833 ]\n",
      " [ 0.55414892 -0.63049119  0.21615739]\n",
      " [ 0.55414892 -0.03789838 -0.5920833 ]\n",
      " [ 0.64127288 -0.9267876  -0.10713888]\n",
      " [ 0.72839684  0.25839803  0.05450926]\n",
      " [ 0.72839684  0.25839803  0.53945367]\n",
      " [ 0.90264476  0.55469443 -0.5920833 ]\n",
      " [ 0.90264476  1.44358365 -0.5920833 ]\n",
      " [ 0.90264476 -1.223084   -0.5920833 ]\n",
      " [ 0.98976872 -1.223084    1.5093425 ]\n",
      " [ 1.07689268 -0.63049119 -0.5920833 ]\n",
      " [ 1.16401665  0.55469443  2.96417575]\n",
      " [ 1.25114061  1.14728725 -0.43043516]\n",
      " [ 1.33826457  1.44358365 -0.5920833 ]\n",
      " [ 1.42538853  0.85099084 -0.5920833 ]\n",
      " [ 1.42538853  0.85099084 -0.5920833 ]\n",
      " [ 1.51251249  1.44358365 -0.5920833 ]\n",
      " [ 1.59963645  1.14728725  0.70110181]\n",
      " [ 1.68676041  1.44358365 -0.5920833 ]\n",
      " [ 1.86100834 -0.03789838 -0.5920833 ]\n",
      " [ 1.86100834  1.14728725 -0.10713888]\n",
      " [ 2.12238022 -0.33419478 -0.43043516]\n",
      " [ 2.29662814  0.55469443 -0.10713888]\n",
      " [ 2.81937191 -1.51938041 -0.26878702]]\n"
     ]
    }
   ],
   "source": [
    "y1=d_train[\"Victory Status\"]\n",
    "y = np.asarray(y1)\n",
    "y=y.reshape(-1,1)\n",
    "\n",
    "d_train.drop([\"Victory Status\"], axis = 1, inplace = True)\n",
    "d_train.drop([\"Id\"], axis = 1, inplace = True)\n",
    "#nd = (d_train - d_train.mean()) / d_train.std()\n",
    "\n",
    "\n",
    "x = np.asarray(d_train,dtype=np.float64)\n",
    "#print(x)\n",
    "\n",
    "\n",
    "from sklearn.preprocessing import StandardScaler\n",
    "sc = StandardScaler()\n",
    "x = sc.fit_transform(x)\n",
    "\n",
    "\n",
    "id1=d_test[\"Id\"]\n",
    "d_test.drop([\"Id\"], axis = 1, inplace = True)\n",
    "#nd = (d_train - d_train.mean()) / d_train.std()\n",
    "x2 = np.asarray(d_test,dtype=np.float64)\n",
    "#print(x)\n",
    "from sklearn.preprocessing import StandardScaler\n",
    "sc = StandardScaler()\n",
    "x2 = sc.fit_transform(x2)\n",
    "\n",
    "\n",
    "print(x2)"
   ]
  },
  {
   "cell_type": "code",
   "execution_count": 38,
   "metadata": {},
   "outputs": [],
   "source": [
    "from sklearn.model_selection import train_test_split\n",
    "x_train, x_test, y_train, y_test = train_test_split(x, y, test_size=0.2, random_state=0)"
   ]
  },
  {
   "cell_type": "code",
   "execution_count": 39,
   "metadata": {},
   "outputs": [
    {
     "name": "stderr",
     "output_type": "stream",
     "text": [
      "/home/sagar24/.local/lib/python2.7/site-packages/ipykernel_launcher.py:8: DataConversionWarning: A column-vector y was passed when a 1d array was expected. Please change the shape of y to (n_samples, ), for example using ravel().\n",
      "  \n"
     ]
    },
    {
     "name": "stdout",
     "output_type": "stream",
     "text": [
      "('Accuracy:', 3, '  ', 0.6818181818181818)\n",
      "('Accuracy:', 4, '  ', 0.6818181818181818)\n",
      "('Accuracy:', 5, '  ', 0.7045454545454546)\n",
      "('Accuracy:', 6, '  ', 0.7727272727272727)\n",
      "('Accuracy:', 7, '  ', 0.7727272727272727)\n",
      "('Accuracy:', 8, '  ', 0.8181818181818182)\n",
      "('Accuracy:', 9, '  ', 0.75)\n",
      "('Accuracy:', 10, '  ', 0.7727272727272727)\n",
      "('Accuracy:', 11, '  ', 0.7727272727272727)\n",
      "('Accuracy:', 12, '  ', 0.7272727272727273)\n",
      "('Accuracy:', 13, '  ', 0.75)\n",
      "('Accuracy:', 14, '  ', 0.7045454545454546)\n",
      "('Accuracy:', 15, '  ', 0.75)\n",
      "('Accuracy:', 16, '  ', 0.7954545454545454)\n",
      "('Accuracy:', 17, '  ', 0.7954545454545454)\n",
      "('Accuracy:', 18, '  ', 0.7954545454545454)\n",
      "('Accuracy:', 19, '  ', 0.7954545454545454)\n",
      "('Accuracy:', 20, '  ', 0.7954545454545454)\n",
      "('Accuracy:', 21, '  ', 0.7954545454545454)\n",
      "('Accuracy:', 22, '  ', 0.7727272727272727)\n",
      "('Accuracy:', 23, '  ', 0.7727272727272727)\n",
      "('Accuracy:', 24, '  ', 0.7727272727272727)\n",
      "('Accuracy:', 25, '  ', 0.7954545454545454)\n",
      "('Accuracy:', 26, '  ', 0.7954545454545454)\n",
      "('Accuracy:', 27, '  ', 0.7954545454545454)\n",
      "('Accuracy:', 28, '  ', 0.7727272727272727)\n",
      "('Accuracy:', 29, '  ', 0.7954545454545454)\n",
      "('Accuracy:', 30, '  ', 0.7954545454545454)\n",
      "('Accuracy:', 31, '  ', 0.7954545454545454)\n",
      "('Accuracy:', 32, '  ', 0.7954545454545454)\n",
      "('Accuracy:', 33, '  ', 0.8181818181818182)\n",
      "('Accuracy:', 34, '  ', 0.7954545454545454)\n",
      "('Accuracy:', 35, '  ', 0.8181818181818182)\n",
      "('Accuracy:', 36, '  ', 0.7954545454545454)\n",
      "('Accuracy:', 37, '  ', 0.75)\n",
      "('Accuracy:', 38, '  ', 0.7954545454545454)\n",
      "('Accuracy:', 39, '  ', 0.7954545454545454)\n"
     ]
    },
    {
     "data": {
      "image/png": "[encoded data removed]",
      "text/plain": [
       "<Figure size 432x288 with 1 Axes>"
      ]
     },
     "metadata": {
      "needs_background": "light"
     },
     "output_type": "display_data"
    },
    {
     "name": "stdout",
     "output_type": "stream",
     "text": [
      "33\n"
     ]
    }
   ],
   "source": [
    "from sklearn.neighbors import KNeighborsClassifier\n",
    "from sklearn import metrics\n",
    "import matplotlib.pyplot as plt\n",
    "accuracy=0\n",
    "n=3\n",
    "for i in range (3,40):\n",
    "    classifier = KNeighborsClassifier(n_neighbors=i)\n",
    "    classifier.fit(x_train, y_train)\n",
    "    y_pred1 = classifier.predict(x_test)\n",
    "    print(\"Accuracy:\",i,\"  \",metrics.accuracy_score(y_test,y_pred1))\n",
    "    if i%2!=0:\n",
    "        if metrics.accuracy_score(y_test,y_pred1)>accuracy:\n",
    "            accuracy=metrics.accuracy_score(y_test,y_pred1)\n",
    "            n=i\n",
    "    plt.plot(i,metrics.accuracy_score(y_test,y_pred1),marker='o', color='mediumvioletred')\n",
    "plt.show()\n",
    "print(n)\n"
   ]
  },
  {
   "cell_type": "code",
   "execution_count": 40,
   "metadata": {},
   "outputs": [
    {
     "name": "stdout",
     "output_type": "stream",
     "text": [
      "86\n"
     ]
    },
    {
     "name": "stderr",
     "output_type": "stream",
     "text": [
      "/home/sagar24/.local/lib/python2.7/site-packages/ipykernel_launcher.py:2: DataConversionWarning: A column-vector y was passed when a 1d array was expected. Please change the shape of y to (n_samples, ), for example using ravel().\n",
      "  \n"
     ]
    }
   ],
   "source": [
    "classifier = KNeighborsClassifier(n_neighbors=19)\n",
    "classifier.fit(x, y)\n",
    "\n",
    "y_pred2 = classifier.predict(x2)\n",
    "print(y_pred2.size)"
   ]
  },
  {
   "cell_type": "code",
   "execution_count": 41,
   "metadata": {},
   "outputs": [],
   "source": [
    "\n",
    "df = pd.DataFrame({\"category\" : y_pred2,\"id\" : id1})\n",
    "df.to_csv(\"submission2.csv\", index=False)"
   ]
  },
  {
   "cell_type": "code",
   "execution_count": 42,
   "metadata": {},
   "outputs": [
    {
     "name": "stdout",
     "output_type": "stream",
     "text": [
      "[1 1 1 2 1 1 1 1 1 1 2 1 1 1 1 1 1 1 1 1 1 1 1 1 1 1 1 1 1 2 1 1 1 1 1 1 1\n",
      " 1 1 1 1 1 1 1 1 1 1 1 1 1 1 2 1 2 1 1 1 1 2 1 1 1 1 1 1 1 1 1 1 1 1 1 1 2\n",
      " 1 1 1 1 1 1 1 1 1 1 1 1]\n"
     ]
    }
   ],
   "source": [
    "from sklearn.linear_model import LogisticRegression\n",
    "clf = LogisticRegression(random_state=0).fit(x, y)\n",
    "y_pred3=clf.predict(x2)\n",
    "#print(y_pred3-y_pred2)\n",
    "print(y_pred2)\n",
    "df3 = pd.DataFrame({\"category\" : y_pred3,\"id\" : id1})\n",
    "df3.to_csv(\"submission3.csv\", index=False)"
   ]
  },
  {
   "cell_type": "code",
   "execution_count": 43,
   "metadata": {},
   "outputs": [
    {
     "name": "stderr",
     "output_type": "stream",
     "text": [
      "/home/sagar24/.local/lib/python2.7/site-packages/ipykernel_launcher.py:3: DataConversionWarning: A column-vector y was passed when a 1d array was expected. Please change the shape of y to (n_samples,), for example using ravel().\n",
      "  This is separate from the ipykernel package so we can avoid doing imports until\n"
     ]
    }
   ],
   "source": [
    "from sklearn.ensemble import RandomForestClassifier\n",
    "rf = RandomForestClassifier()\n",
    "rf.fit(x, y)\n",
    "y_pred4=rf.predict(x2)\n",
    "#print(y_pred4-y_pred3)\n",
    "df4 = pd.DataFrame({\"category\" : y_pred4,\"id\" : id1})\n",
    "df4.to_csv(\"submission4.csv\", index=False)"
   ]
  },
  {
   "cell_type": "code",
   "execution_count": 44,
   "metadata": {},
   "outputs": [],
   "source": [
    "from sklearn.naive_bayes import GaussianNB\n",
    "nb = GaussianNB()\n",
    "nb.fit(x,y)\n",
    "y_pred5=nb.predict(x2)\n",
    "#print(y_pred5-y_pred3)\n",
    "df5 = pd.DataFrame({\"category\" : y_pred5,\"id\" : id1})\n",
    "df5.to_csv(\"submission5.csv\", index=False)"
   ]
  },
  {
   "cell_type": "code",
   "execution_count": 45,
   "metadata": {},
   "outputs": [],
   "source": [
    "from sklearn import svm\n",
    "clf3=svm.SVC()\n",
    "clf3.fit(x, y)\n",
    "y_pred6 = clf3.predict(x2)\n",
    "df6 = pd.DataFrame({\"category\" : y_pred6,\"id\" : id1})\n",
    "df6.to_csv(\"submission6.csv\", index=False)"
   ]
  },
  {
   "cell_type": "code",
   "execution_count": 46,
   "metadata": {},
   "outputs": [],
   "source": [
    "from sklearn.tree import DecisionTreeClassifier\n",
    "dt = DecisionTreeClassifier()\n",
    "dt.fit(x,y)\n",
    "y_pred7 = dt.predict(x2)\n",
    "df7 = pd.DataFrame({\"category\" : y_pred7,\"id\" : id1})\n",
    "df7.to_csv(\"submission7.csv\", index=False)"
   ]
  },
  {
   "cell_type": "code",
   "execution_count": 47,
   "metadata": {},
   "outputs": [],
   "source": [
    "from sklearn.neural_network import MLPClassifier\n",
    "nnmodel=MLPClassifier(hidden_layer_sizes=(30,50))\n",
    "nnmodel.fit(x,y)\n",
    "y_pred8 = nnmodel.predict(x2)\n",
    "df8 = pd.DataFrame({\"category\" : y_pred8,\"id\" : id1})\n",
    "df8.to_csv(\"submission8.csv\", index=False)"
   ]
  },
  {
   "cell_type": "code",
   "execution_count": 48,
   "metadata": {},
   "outputs": [
    {
     "name": "stdout",
     "output_type": "stream",
     "text": [
      "[ 0  0  0  1  0  0  0  0  0  0 -1  0  0  0  0  0  0  0  0 -1  0  0  0  0\n",
      "  0  0  0  0  0  0  0  0  0  0  0  0  0  0  0  0  0  0  0  0  0  0  0  0\n",
      "  0  0  0  0  0  0  0  0  0  0  0  0  0  0  0  1  0  0  0  0  0  0  0  0\n",
      "  0  0  0  0  0  0  0 -1  0  0  0  0  0  0]\n"
     ]
    }
   ],
   "source": [
    "nnmodel2=MLPClassifier(hidden_layer_sizes=(30,100))\n",
    "nnmodel2.fit(x,y)\n",
    "y_pred9 = nnmodel2.predict(x2)\n",
    "print(y_pred9-y_pred8)\n",
    "df9 = pd.DataFrame({\"category\" : y_pred9,\"id\" : id1})\n",
    "df9.to_csv(\"submission9.csv\", index=False)"
   ]
  },
  {
   "cell_type": "code",
   "execution_count": null,
   "metadata": {},
   "outputs": [],
   "source": []
  }
 ],
 "metadata": {
  "kernelspec": {
   "display_name": "Python 3",
   "language": "python",
   "name": "python3"
  },
  "language_info": {
   "codemirror_mode": {
    "name": "ipython",
    "version": 2
   },
   "file_extension": ".py",
   "mimetype": "text/x-python",
   "name": "python",
   "nbconvert_exporter": "python",
   "pygments_lexer": "ipython2",
   "version": "2.7.15+"
  }
 },
 "nbformat": 4,
 "nbformat_minor": 2
}
